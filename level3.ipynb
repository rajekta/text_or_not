{
  "cells": [
    {
      "metadata": {
        "trusted": true,
        "_uuid": "bd9ed10828cbb8e5555e3e3a14b01a2d5b2b81a8"
      },
      "cell_type": "code",
      "source": "import os\nimport shutil\nshutil.copy2('../input/padhai.py', './')\nos.listdir()",
      "execution_count": null,
      "outputs": []
    },
    {
      "metadata": {
        "trusted": true,
        "_uuid": "d70c02b66c3cc7456a547cd3d2936cb43ae238a4"
      },
      "cell_type": "code",
      "source": "\nimport sys\nimport pickle\nimport numpy as np\nimport pandas as pd\nfrom PIL import Image, ImageFilter\nfrom tqdm import tqdm_notebook\nfrom sklearn.preprocessing import StandardScaler, MinMaxScaler\nfrom sklearn.metrics import accuracy_score, mean_squared_error, log_loss, confusion_matrix\nfrom padhai import MPNeuron, Perceptron, PerceptronWithSigmoid\nimport matplotlib.pyplot as plt\n\nnp.random.seed(100)\nLEVEL = 'level_3'\n#os.chdir(\"../\")",
      "execution_count": null,
      "outputs": []
    },
    {
      "metadata": {
        "trusted": true,
        "_uuid": "828f50a4b2383c45f2274d36f556f97a28a91724"
      },
      "cell_type": "code",
      "source": "os.listdir()",
      "execution_count": null,
      "outputs": []
    },
    {
      "metadata": {
        "trusted": true,
        "_uuid": "1a92012d4f3566c3bd0de4f028706248f20eaa5a"
      },
      "cell_type": "code",
      "source": "class SigmoidNeuron:\n  \n  def __init__(self):\n    self.w = None\n    self.b = None\n    \n  def perceptron(self, x):\n    return np.dot(x, self.w.T) + self.b\n  \n  def sigmoid(self, x):\n    return 1.0/(1.0 + np.exp(-x))\n  \n  def grad_w_mse(self, x, y):\n    y_pred = self.sigmoid(self.perceptron(x))\n    return (y_pred - y) * y_pred * (1 - y_pred) * x\n  \n  def grad_b_mse(self, x, y):\n    y_pred = self.sigmoid(self.perceptron(x))\n    return (y_pred - y) * y_pred * (1 - y_pred)\n  \n  def grad_w_ce(self, x, y):\n    y_pred = self.sigmoid(self.perceptron(x))\n    if y == 0:\n      return y_pred * x\n    elif y == 1:\n      return -1 * (1 - y_pred) * x\n    else:\n      raise ValueError(\"y should be 0 or 1\")\n    \n  def grad_b_ce(self, x, y):\n    y_pred = self.sigmoid(self.perceptron(x))\n    if y == 0:\n      return y_pred \n    elif y == 1:\n      return -1 * (1 - y_pred)\n    else:\n      raise ValueError(\"y should be 0 or 1\")\n  \n  def fit(self, X, Y, epochs=1, learning_rate=1, initialise=True, loss_fn=\"mse\", display_loss=False):\n    \n    # initialise w, b\n    if initialise:\n      self.w = np.random.randn(1, X.shape[1])\n      self.b = 0\n      \n    if display_loss:\n      loss = {}\n    \n    for i in tqdm_notebook(range(epochs), total=epochs, unit=\"epoch\"):\n      dw = 0\n      db = 0\n      for x, y in zip(X, Y):\n        if loss_fn == \"mse\":\n          dw += self.grad_w_mse(x, y)\n          db += self.grad_b_mse(x, y) \n        elif loss_fn == \"ce\":\n          dw += self.grad_w_ce(x, y)\n          db += self.grad_b_ce(x, y)\n      self.w -= learning_rate * dw\n      self.b -= learning_rate * db\n      \n      if display_loss:\n        Y_pred = self.sigmoid(self.perceptron(X))\n        if loss_fn == \"mse\":\n          loss[i] = mean_squared_error(Y, Y_pred)\n        elif loss_fn == \"ce\":\n          loss[i] = log_loss(Y, Y_pred)\n    \n    if display_loss:\n      plt.plot(loss.values())\n      plt.xlabel('Epochs')\n      if loss_fn == \"mse\":\n        plt.ylabel('Mean Squared Error')\n      elif loss_fn == \"ce\":\n        plt.ylabel('Log Loss')\n      plt.show()\n      \n  def predict(self, X):\n    Y_pred = []\n    for x in X:\n      y_pred = self.sigmoid(self.perceptron(x))\n      Y_pred.append(y_pred)\n    return np.array(Y_pred)",
      "execution_count": null,
      "outputs": []
    },
    {
      "metadata": {
        "trusted": true,
        "_uuid": "272a139e3885993c335890eb9edf8d230bdbfbc9"
      },
      "cell_type": "code",
      "source": "def read_all(folder_path, key_prefix=\"\"):\n    '''\n    It returns a dictionary with 'file names' as keys and 'flattened image arrays' as values.\n    '''\n    print(\"Reading:\")\n    images = {}\n    global images_plot\n    images_plot = []\n    files = os.listdir(folder_path)\n    for i, file_name in tqdm_notebook(enumerate(files), total=len(files)):\n        file_path = os.path.join(folder_path, file_name)\n        image_index = key_prefix + file_name[:-4]\n        image = Image.open(file_path)\n        images_plot.append(image)\n        \n        #image = image.convert(\"L\")\n        invert_clr = lambda x: 0 if x > 10 else 255\n        image = image.convert('L').point(invert_clr)\n        #image = image.filter(ImageFilter.MaxFilter(3))\n        images[image_index] = np.array(image.copy()).flatten()\n        image.close()\n    return images",
      "execution_count": null,
      "outputs": []
    },
    {
      "metadata": {
        "trusted": true,
        "_uuid": "d08ee9817cd86374d6542fe31e8e943752f99cc5"
      },
      "cell_type": "code",
      "source": "#images[0]",
      "execution_count": null,
      "outputs": []
    },
    {
      "metadata": {
        "trusted": true,
        "_uuid": "b686ed04b12fa8336f24d9bdafedd2779d6dd06d"
      },
      "cell_type": "code",
      "source": "languages = ['ta', 'hi', 'en']\n\nimages_train = read_all(\"../input/level_3_train/\"+LEVEL+\"/\"+\"background\", key_prefix='bgr_') # change the path\nfor language in languages:\n  images_train.update(read_all(\"../input/level_3_train//\"+LEVEL+\"/\"+language, key_prefix=language+\"_\" ))\nprint(len(images_train))\n\nimages_test = read_all(\"../input/level_3_test/kaggle_\"+LEVEL, key_prefix='') # change the path\nprint(len(images_test))",
      "execution_count": null,
      "outputs": []
    },
    {
      "metadata": {
        "trusted": true,
        "_uuid": "799baccbf1b09f411b4ab1c5339c2ab2f437e647"
      },
      "cell_type": "code",
      "source": "list(images_test.keys())[:5]",
      "execution_count": null,
      "outputs": []
    },
    {
      "metadata": {
        "trusted": true,
        "_uuid": "7951e54b49226f402b3df74863c4371b8733d7eb"
      },
      "cell_type": "code",
      "source": "X_train = []\nY_train = []\nfor key, value in images_train.items():\n    X_train.append(value)\n    if key[:4] == \"bgr_\":\n        Y_train.append(0)\n    else:\n        Y_train.append(1)\n\nID_test = []\nX_test = []\nfor key, value in images_test.items():\n  ID_test.append(int(key))\n  X_test.append(value)\n\n\n\n#X_test = X_test.apply(pd.cut, bins=2, labels=[1,0])\n\n\nX_train = np.array(X_train)\n\nY_train = np.array(Y_train)\nX_test = np.array(X_test)\n\nprint(X_train.shape, Y_train.shape)\nprint(X_test.shape)",
      "execution_count": null,
      "outputs": []
    },
    {
      "metadata": {
        "trusted": true,
        "_uuid": "7ef642aa9c30f51b4f9bbf4a56003e393303bae0"
      },
      "cell_type": "code",
      "source": "scaler = MinMaxScaler()\nX_scaled_train = scaler.fit_transform(X_train)\nX_scaled_test = scaler.transform(X_test)\n#X_scaled_train",
      "execution_count": null,
      "outputs": []
    },
    {
      "metadata": {
        "trusted": true,
        "_uuid": "2ccd91e2abaa396337324575d56bd02f22421d06"
      },
      "cell_type": "code",
      "source": "sn_mse = SigmoidNeuron()\nsn_mse.fit(X_scaled_train, Y_train, epochs=200, learning_rate=0.015, loss_fn=\"mse\", display_loss=True)",
      "execution_count": null,
      "outputs": []
    },
    {
      "metadata": {
        "trusted": true,
        "_uuid": "067f401b00c8af92ed2f89896d2e71ab2b3d8807"
      },
      "cell_type": "code",
      "source": "sn_ce = SigmoidNeuron()\nsn_ce.fit(X_scaled_train, Y_train, epochs=200, learning_rate=0.015, loss_fn=\"ce\", display_loss=True)",
      "execution_count": null,
      "outputs": []
    },
    {
      "metadata": {
        "trusted": true,
        "_uuid": "720a4cb4362dab3e34d6fbf83a5e22a2e23d9bf0"
      },
      "cell_type": "code",
      "source": "def print_accuracy(sn):\n  Y_pred_train = sn.predict(X_scaled_train)\n  Y_pred_binarised_train = (Y_pred_train >= 0.5).astype(\"int\").ravel()\n  accuracy_train = accuracy_score(Y_pred_binarised_train, Y_train)\n  print(\"Train Accuracy : \", accuracy_train)\n  print(\"-\"*50)",
      "execution_count": null,
      "outputs": []
    },
    {
      "metadata": {
        "trusted": true,
        "_uuid": "3a10469330b9b0bea23a8591d86790f917a113ad"
      },
      "cell_type": "code",
      "source": "print_accuracy(sn_mse)\nprint_accuracy(sn_ce)",
      "execution_count": null,
      "outputs": []
    },
    {
      "metadata": {
        "_uuid": "f14904c732af786a499d106fac51050474bf31e7"
      },
      "cell_type": "markdown",
      "source": "## Sample Submission"
    },
    {
      "metadata": {
        "trusted": true,
        "_uuid": "ac85996b0167cdfbf733b60cbc056dc8a4c4da9f"
      },
      "cell_type": "code",
      "source": "# os.listdir()\n# os.chdir(\"../\")\n# os.listdir()",
      "execution_count": null,
      "outputs": []
    },
    {
      "metadata": {
        "trusted": true,
        "_uuid": "7e716184e26d6cec36d8a38cc331da2301795585"
      },
      "cell_type": "code",
      "source": "Y_pred_test = sn_ce.predict(X_scaled_test)\nY_pred_binarised_test = (Y_pred_test >= 0.5).astype(\"int\").ravel()\n\nsubmission = {}\nsubmission['ImageId'] = ID_test\nsubmission['Class'] = Y_pred_binarised_test\n\nsubmission = pd.DataFrame(submission)\nsubmission = submission[['ImageId', 'Class']]\nsubmission = submission.sort_values(['ImageId'])\n\n#os.chdir(\"./working\")\n\n\n#os.listdir()\nsubmission.to_csv(\"submisision_6.csv\", index=False)\n#os.listdir(\"../\")",
      "execution_count": null,
      "outputs": []
    },
    {
      "metadata": {
        "trusted": true,
        "_uuid": "64b4a740679b40f1028b2001e3e0f5c788e1242a"
      },
      "cell_type": "code",
      "source": "submission.groupby('Class').count()",
      "execution_count": null,
      "outputs": []
    },
    {
      "metadata": {
        "trusted": true,
        "_uuid": "bbfea1498c04293b348a5a00267815bc3195eb3b"
      },
      "cell_type": "code",
      "source": "os.listdir()",
      "execution_count": null,
      "outputs": []
    },
    {
      "metadata": {
        "trusted": true,
        "_uuid": "e63931e1cb89371a5e8b23007595d86add424fa7"
      },
      "cell_type": "code",
      "source": "",
      "execution_count": null,
      "outputs": []
    },
    {
      "metadata": {
        "trusted": true,
        "_uuid": "f40befecbe7a389b9ee301f6e3cd46c29c2a44ab"
      },
      "cell_type": "code",
      "source": "",
      "execution_count": null,
      "outputs": []
    }
  ],
  "metadata": {
    "kernelspec": {
      "display_name": "Python 3",
      "language": "python",
      "name": "python3"
    },
    "language_info": {
      "name": "python",
      "version": "3.6.6",
      "mimetype": "text/x-python",
      "codemirror_mode": {
        "name": "ipython",
        "version": 3
      },
      "pygments_lexer": "ipython3",
      "nbconvert_exporter": "python",
      "file_extension": ".py"
    }
  },
  "nbformat": 4,
  "nbformat_minor": 1
}